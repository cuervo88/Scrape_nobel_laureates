{
  "cells": [
    {
      "cell_type": "code",
      "execution_count": 1,
      "metadata": {
        "id": "4E292GhB3EVS"
      },
      "outputs": [],
      "source": [
        "from bs4 import BeautifulSoup\n",
        "import requests\n",
        "import pandas as pd"
      ]
    },
    {
      "cell_type": "code",
      "execution_count": 2,
      "metadata": {
        "id": "hukbpSgD4VeQ"
      },
      "outputs": [],
      "source": [
        "url = \"https://en.wikipedia.org/wiki/List_of_Nobel_laureates_in_Literature\"\n",
        "req = requests.get(url)\n",
        "soup = BeautifulSoup(req.content, 'html.parser')\n",
        "laureate_dict = {}\n",
        "for row in soup.findAll('table')[0].tbody.findAll('tr'):\n",
        "    for line1 in row.findAll('td'):\n",
        "      if line1.find('b') is not None:\n",
        "        link = line1.find('a').get('href')\n",
        "        name = line1.find('a').get('title')\n",
        "        laureate_dict[name] = \"https://en.wikipedia.org\" + link\n",
        "laureate_date = {}\n",
        "for urls in laureate_dict.values():\n",
        "  req = requests.get(urls)\n",
        "  soup = BeautifulSoup(req.content, 'html.parser')\n",
        "  for row in soup.findAll('table', class_ = \"infobox vcard\"):\n",
        "    try:\n",
        "      name = soup.find('h1', class_ = 'firstHeading').getText()\n",
        "      date = row.find('span', class_=\"bday\").getText()\n",
        "    except: \n",
        "      name = soup.find('h1', class_ = 'firstHeading').getText()\n",
        "      date = row.find('span').getText()\n",
        "    laureate_date[name] = date\n"
      ]
    },
    {
      "cell_type": "code",
      "execution_count": 3,
      "metadata": {
        "colab": {
          "base_uri": "https://localhost:8080/"
        },
        "id": "h9VAnkt7nSZH",
        "outputId": "231a6530-9c5c-4a1c-d948-a6d1496c7a34"
      },
      "outputs": [
        {
          "output_type": "stream",
          "name": "stdout",
          "text": [
            "https://en.wikipedia.org/wiki/W._B._Yeats 22\n"
          ]
        }
      ],
      "source": [
        "df_utls = pd.DataFrame.from_dict(laureate_dict, orient='index')\n",
        "df_date = pd.DataFrame.from_dict(laureate_date , orient='index')\n",
        "df_utls[\"C\"] = df_date[0]\n",
        "df_utls['C'] = df_utls['C'].fillna(0)\n",
        "for i in range(len(df_utls)):\n",
        "#  print(df_utls[\"C\"][i])\n",
        "  if df_utls[\"C\"][i] == 0:\n",
        "    url = df_utls[0][i]\n",
        "    req = requests.get(url)\n",
        "    soup = BeautifulSoup(req.content, 'html.parser')\n",
        "    try:\n",
        "      name = soup.find('h1', class_ = 'firstHeading').getText()\n",
        "      date = soup.find('span', class_=\"bday\").getText()\n",
        "      df_utls['C'][i] = date\n",
        "#      print(name,date)\n",
        "    except:\n",
        "      print(df_utls[0][i], i)"
      ]
    },
    {
      "cell_type": "code",
      "execution_count": 4,
      "metadata": {
        "id": "XunJm6ltCWpQ"
      },
      "outputs": [],
      "source": [
        "df_utls['C'][22] = '1865-06-13'"
      ]
    },
    {
      "cell_type": "code",
      "source": [
        "df_utls['C'] = df_utls['C'].str.replace('(','')\n",
        "df_utls['C'] = df_utls['C'].str.replace(')','')\n",
        "df_utls['Date'] = df_utls['C'].astype('datetime64[ns]')"
      ],
      "metadata": {
        "id": "2FbhZIxFC557"
      },
      "execution_count": 5,
      "outputs": []
    },
    {
      "cell_type": "code",
      "source": [
        "signs = ['Capricorn','Aquarius','Pisces','Aries','Taurus','Gemini','Cancer','Leo','Virgo','Libra','Scorpio','Sagittarius']\n",
        "dates_cut = [20,19,20,20,21,21,22,21,23,23,22,22]\n",
        "for i in range(len(df_utls)):\n",
        "  for j in range(12):\n",
        "    if df_utls['Date'][i].month == j+1:\n",
        "      if df_utls['Date'][i].day  < dates_cut[j]:\n",
        "        df_utls['C'][i] = signs[j]\n",
        "      else:\n",
        "        n = j+1\n",
        "        if n == 12:\n",
        "           n = 0\n",
        "        df_utls['C'][i] = signs[n]\n",
        "import plotly.express as px\n",
        "df = px.data.tips()\n",
        "fig = px.histogram(df, x=\"total_bill\")\n",
        "fig.show() "
      ],
      "metadata": {
        "colab": {
          "base_uri": "https://localhost:8080/"
        },
        "id": "gPxyNqGUGjDv",
        "outputId": "795ea972-9c6d-49f8-b7d8-6075b3e8c10c"
      },
      "execution_count": 24,
      "outputs": [
        {
          "output_type": "stream",
          "name": "stderr",
          "text": [
            "/usr/local/lib/python3.7/dist-packages/ipykernel_launcher.py:7: SettingWithCopyWarning: \n",
            "A value is trying to be set on a copy of a slice from a DataFrame\n",
            "\n",
            "See the caveats in the documentation: https://pandas.pydata.org/pandas-docs/stable/user_guide/indexing.html#returning-a-view-versus-a-copy\n",
            "  import sys\n",
            "/usr/local/lib/python3.7/dist-packages/ipykernel_launcher.py:12: SettingWithCopyWarning: \n",
            "A value is trying to be set on a copy of a slice from a DataFrame\n",
            "\n",
            "See the caveats in the documentation: https://pandas.pydata.org/pandas-docs/stable/user_guide/indexing.html#returning-a-view-versus-a-copy\n",
            "  if sys.path[0] == '':\n"
          ]
        }
      ]
    },
    {
      "cell_type": "code",
      "source": [
        "import plotly.express as px\n",
        "#df = px.data.tips()\n",
        "fig = px.bar(df_utls, x=\"C\",y=df_utls.index , title=\"Literature Nobel Laureates\")\n",
        "fig.show()\n",
        "\n",
        "#df_utls.sort_values('C')"
      ],
      "metadata": {
        "colab": {
          "base_uri": "https://localhost:8080/",
          "height": 542
        },
        "id": "R7WLknvicrnL",
        "outputId": "7cf43e79-d957-423a-a679-2471ad7f45bf"
      },
      "execution_count": 37,
      "outputs": [
        {
          "output_type": "display_data",
          "data": {
            "text/html": [
              "<html>\n",
              "<head><meta charset=\"utf-8\" /></head>\n",
              "<body>\n",
              "    <div>\n",
              "            <script src=\"https://cdnjs.cloudflare.com/ajax/libs/mathjax/2.7.5/MathJax.js?config=TeX-AMS-MML_SVG\"></script><script type=\"text/javascript\">if (window.MathJax) {MathJax.Hub.Config({SVG: {font: \"STIX-Web\"}});}</script>\n",
              "                <script type=\"text/javascript\">window.PlotlyConfig = {MathJaxConfig: 'local'};</script>\n",
              "        <script src=\"https://cdn.plot.ly/plotly-latest.min.js\"></script>    \n",
              "            <div id=\"40e65506-e0b9-48c4-b107-d6c00564290b\" class=\"plotly-graph-div\" style=\"height:525px; width:100%;\"></div>\n",
              "            <script type=\"text/javascript\">\n",
              "                \n",
              "                    window.PLOTLYENV=window.PLOTLYENV || {};\n",
              "                    \n",
              "                if (document.getElementById(\"40e65506-e0b9-48c4-b107-d6c00564290b\")) {\n",
              "                    Plotly.newPlot(\n",
              "                        '40e65506-e0b9-48c4-b107-d6c00564290b',\n",
              "                        [{\"alignmentgroup\": \"True\", \"hoverlabel\": {\"namelength\": 0}, \"hovertemplate\": \"C=%{x}<br>y=%{y}\", \"legendgroup\": \"\", \"marker\": {\"color\": \"#636efa\"}, \"name\": \"\", \"offsetgroup\": \"\", \"orientation\": \"v\", \"showlegend\": false, \"textposition\": \"auto\", \"type\": \"bar\", \"x\": [\"Pisces\", \"Sagittarius\", \"Sagittarius\", \"Virgo\", \"Aries\", \"Taurus\", \"Leo\", \"Capricorn\", \"Capricorn\", \"Scorpio\", \"Pisces\", \"Virgo\", \"Scorpio\", \"Taurus\", \"Aquarius\", \"Cancer\", \"Gemini\", \"Leo\", \"Taurus\", \"Leo\", \"Aries\", \"Leo\", \"Gemini\", \"Taurus\", \"Leo\", \"Libra\", \"Libra\", \"Taurus\", \"Gemini\", \"Aquarius\", \"Cancer\", \"Leo\", \"Libra\", \"Cancer\", \"Libra\", \"Aries\", \"Cancer\", \"Virgo\", \"Aquarius\", \"Aries\", \"Cancer\", \"Sagittarius\", \"Libra\", \"Libra\", \"Taurus\", \"Gemini\", \"Libra\", \"Sagittarius\", \"Cancer\", \"Taurus\", \"Capricorn\", \"Scorpio\", \"Gemini\", \"Leo\", \"Gemini\", \"Libra\", \"Sagittarius\", \"Virgo\", \"Cancer\", \"Gemini\", \"Cancer\", \"Sagittarius\", \"Libra\", \"Gemini\", \"Aries\", \"Sagittarius\", \"Cancer\", \"Sagittarius\", \"Gemini\", \"Leo\", \"Taurus\", \"Libra\", \"Gemini\", \"Taurus\", \"Scorpio\", \"Scorpio\", \"Cancer\", \"Leo\", \"Pisces\", \"Virgo\", \"Libra\", \"Libra\", \"Cancer\", \"Gemini\", \"Sagittarius\", \"Taurus\", \"Aries\", \"Scorpio\", \"Aquarius\", \"Aquarius\", \"Aquarius\", \"Aries\", \"Cancer\", \"Aries\", \"Scorpio\", \"Libra\", \"Capricorn\", \"Leo\", \"Scorpio\", \"Aquarius\", \"Libra\", \"Libra\", \"Gemini\", \"Libra\", \"Aries\", \"Leo\", \"Aries\", \"Aries\", \"Aquarius\", \"Cancer\", \"Leo\", \"Gemini\", \"Gemini\", \"Scorpio\", \"Aquarius\", \"Sagittarius\", \"Taurus\", \"Sagittarius\"], \"xaxis\": \"x\", \"y\": [\"Sully Prudhomme\", \"Theodor Mommsen\", \"Bj\\u00f8rnstjerne Bj\\u00f8rnson\", \"Fr\\u00e9d\\u00e9ric Mistral\", \"Jos\\u00e9 Echegaray\", \"Henryk Sienkiewicz\", \"Giosu\\u00e8 Carducci\", \"Rudyard Kipling\", \"Rudolf Christoph Eucken\", \"Selma Lagerl\\u00f6f\", \"Paul Heyse\", \"Maurice Maeterlinck\", \"Gerhart Hauptmann\", \"Rabindranath Tagore\", \"Romain Rolland\", \"Verner von Heidenstam\", \"Karl Adolph Gjellerup\", \"Henrik Pontoppidan\", \"Carl Spitteler\", \"Knut Hamsun\", \"Anatole France\", \"Jacinto Benavente\", \"W. B. Yeats\", \"W\\u0142adys\\u0142aw Reymont\", \"George Bernard Shaw\", \"Grazia Deledda\", \"Henri Bergson\", \"Sigrid Undset\", \"Thomas Mann\", \"Sinclair Lewis\", \"Erik Axel Karlfeldt\", \"John Galsworthy\", \"Ivan Bunin\", \"Luigi Pirandello\", \"Eugene O'Neill\", \"Roger Martin du Gard\", \"Pearl S. Buck\", \"Frans Eemil Sillanp\\u00e4\\u00e4\", \"Johannes Vilhelm Jensen\", \"Gabriela Mistral\", \"Hermann Hesse\", \"Andr\\u00e9 Gide\", \"T. S. Eliot\", \"William Faulkner\", \"Bertrand Russell\", \"P\\u00e4r Lagerkvist\", \"Fran\\u00e7ois Mauriac\", \"Winston Churchill\", \"Ernest Hemingway\", \"Halld\\u00f3r Laxness\", \"Juan Ram\\u00f3n Jim\\u00e9nez\", \"Albert Camus\", \"Boris Pasternak\", \"Salvatore Quasimodo\", \"Saint-John Perse\", \"Ivo Andri\\u0107\", \"John Steinbeck\", \"Giorgos Seferis\", \"Jean-Paul Sartre\", \"Mikhail Sholokhov\", \"Shmuel Yosef Agnon\", \"Nelly Sachs\", \"Miguel \\u00c1ngel Asturias\", \"Yasunari Kawabata\", \"Samuel Beckett\", \"Aleksandr Solzhenitsyn\", \"Pablo Neruda\", \"Heinrich B\\u00f6ll\", \"Patrick White\", \"Eyvind Johnson\", \"Harry Martinson\", \"Eugenio Montale\", \"Saul Bellow\", \"Vicente Aleixandre\", \"Isaac Bashevis Singer\", \"Odysseas Elytis\", \"Czes\\u0142aw Mi\\u0142osz\", \"Elias Canetti\", \"Gabriel Garc\\u00eda M\\u00e1rquez\", \"William Golding\", \"Jaroslav Seifert\", \"Claude Simon\", \"Wole Soyinka\", \"Joseph Brodsky\", \"Naguib Mahfouz\", \"Camilo Jos\\u00e9 Cela\", \"Octavio Paz\", \"Nadine Gordimer\", \"Derek Walcott\", \"Toni Morrison\", \"Kenzabur\\u014d \\u014ce\", \"Seamus Heaney\", \"Wis\\u0142awa Szymborska\", \"Dario Fo\", \"Jos\\u00e9 Saramago\", \"G\\u00fcnter Grass\", \"Gao Xingjian\", \"V. S. Naipaul\", \"Imre Kert\\u00e9sz\", \"J. M. Coetzee\", \"Elfriede Jelinek\", \"Harold Pinter\", \"Orhan Pamuk\", \"Doris Lessing\", \"J. M. G. Le Cl\\u00e9zio\", \"Herta M\\u00fcller\", \"Mario Vargas Llosa\", \"Tomas Transtr\\u00f6mer\", \"Mo Yan\", \"Alice Munro\", \"Patrick Modiano\", \"Svetlana Alexievich\", \"Bob Dylan\", \"Kazuo Ishiguro\", \"Olga Tokarczuk\", \"Peter Handke\", \"Louise Gl\\u00fcck\", \"Abdulrazak Gurnah\"], \"yaxis\": \"y\"}],\n",
              "                        {\"barmode\": \"relative\", \"legend\": {\"tracegroupgap\": 0}, \"template\": {\"data\": {\"bar\": [{\"error_x\": {\"color\": \"#2a3f5f\"}, \"error_y\": {\"color\": \"#2a3f5f\"}, \"marker\": {\"line\": {\"color\": \"#E5ECF6\", \"width\": 0.5}}, \"type\": \"bar\"}], \"barpolar\": [{\"marker\": {\"line\": {\"color\": \"#E5ECF6\", \"width\": 0.5}}, \"type\": \"barpolar\"}], \"carpet\": [{\"aaxis\": {\"endlinecolor\": \"#2a3f5f\", \"gridcolor\": \"white\", \"linecolor\": \"white\", \"minorgridcolor\": \"white\", \"startlinecolor\": \"#2a3f5f\"}, \"baxis\": {\"endlinecolor\": \"#2a3f5f\", \"gridcolor\": \"white\", \"linecolor\": \"white\", \"minorgridcolor\": \"white\", \"startlinecolor\": \"#2a3f5f\"}, \"type\": \"carpet\"}], \"choropleth\": [{\"colorbar\": {\"outlinewidth\": 0, \"ticks\": \"\"}, \"type\": \"choropleth\"}], \"contour\": [{\"colorbar\": {\"outlinewidth\": 0, \"ticks\": \"\"}, \"colorscale\": [[0.0, \"#0d0887\"], [0.1111111111111111, \"#46039f\"], [0.2222222222222222, \"#7201a8\"], [0.3333333333333333, \"#9c179e\"], [0.4444444444444444, \"#bd3786\"], [0.5555555555555556, \"#d8576b\"], [0.6666666666666666, \"#ed7953\"], [0.7777777777777778, \"#fb9f3a\"], [0.8888888888888888, \"#fdca26\"], [1.0, \"#f0f921\"]], \"type\": \"contour\"}], \"contourcarpet\": [{\"colorbar\": {\"outlinewidth\": 0, \"ticks\": \"\"}, \"type\": \"contourcarpet\"}], \"heatmap\": [{\"colorbar\": {\"outlinewidth\": 0, \"ticks\": \"\"}, \"colorscale\": [[0.0, \"#0d0887\"], [0.1111111111111111, \"#46039f\"], [0.2222222222222222, \"#7201a8\"], [0.3333333333333333, \"#9c179e\"], [0.4444444444444444, \"#bd3786\"], [0.5555555555555556, \"#d8576b\"], [0.6666666666666666, \"#ed7953\"], [0.7777777777777778, \"#fb9f3a\"], [0.8888888888888888, \"#fdca26\"], [1.0, \"#f0f921\"]], \"type\": \"heatmap\"}], \"heatmapgl\": [{\"colorbar\": {\"outlinewidth\": 0, \"ticks\": \"\"}, \"colorscale\": [[0.0, \"#0d0887\"], [0.1111111111111111, \"#46039f\"], [0.2222222222222222, \"#7201a8\"], [0.3333333333333333, \"#9c179e\"], [0.4444444444444444, \"#bd3786\"], [0.5555555555555556, \"#d8576b\"], [0.6666666666666666, \"#ed7953\"], [0.7777777777777778, \"#fb9f3a\"], [0.8888888888888888, \"#fdca26\"], [1.0, \"#f0f921\"]], \"type\": \"heatmapgl\"}], \"histogram\": [{\"marker\": {\"colorbar\": {\"outlinewidth\": 0, \"ticks\": \"\"}}, \"type\": \"histogram\"}], \"histogram2d\": [{\"colorbar\": {\"outlinewidth\": 0, \"ticks\": \"\"}, \"colorscale\": [[0.0, \"#0d0887\"], [0.1111111111111111, \"#46039f\"], [0.2222222222222222, \"#7201a8\"], [0.3333333333333333, \"#9c179e\"], [0.4444444444444444, \"#bd3786\"], [0.5555555555555556, \"#d8576b\"], [0.6666666666666666, \"#ed7953\"], [0.7777777777777778, \"#fb9f3a\"], [0.8888888888888888, \"#fdca26\"], [1.0, \"#f0f921\"]], \"type\": \"histogram2d\"}], \"histogram2dcontour\": [{\"colorbar\": {\"outlinewidth\": 0, \"ticks\": \"\"}, \"colorscale\": [[0.0, \"#0d0887\"], [0.1111111111111111, \"#46039f\"], [0.2222222222222222, \"#7201a8\"], [0.3333333333333333, \"#9c179e\"], [0.4444444444444444, \"#bd3786\"], [0.5555555555555556, \"#d8576b\"], [0.6666666666666666, \"#ed7953\"], [0.7777777777777778, \"#fb9f3a\"], [0.8888888888888888, \"#fdca26\"], [1.0, \"#f0f921\"]], \"type\": \"histogram2dcontour\"}], \"mesh3d\": [{\"colorbar\": {\"outlinewidth\": 0, \"ticks\": \"\"}, \"type\": \"mesh3d\"}], \"parcoords\": [{\"line\": {\"colorbar\": {\"outlinewidth\": 0, \"ticks\": \"\"}}, \"type\": \"parcoords\"}], \"pie\": [{\"automargin\": true, \"type\": \"pie\"}], \"scatter\": [{\"marker\": {\"colorbar\": {\"outlinewidth\": 0, \"ticks\": \"\"}}, \"type\": \"scatter\"}], \"scatter3d\": [{\"line\": {\"colorbar\": {\"outlinewidth\": 0, \"ticks\": \"\"}}, \"marker\": {\"colorbar\": {\"outlinewidth\": 0, \"ticks\": \"\"}}, \"type\": \"scatter3d\"}], \"scattercarpet\": [{\"marker\": {\"colorbar\": {\"outlinewidth\": 0, \"ticks\": \"\"}}, \"type\": \"scattercarpet\"}], \"scattergeo\": [{\"marker\": {\"colorbar\": {\"outlinewidth\": 0, \"ticks\": \"\"}}, \"type\": \"scattergeo\"}], \"scattergl\": [{\"marker\": {\"colorbar\": {\"outlinewidth\": 0, \"ticks\": \"\"}}, \"type\": \"scattergl\"}], \"scattermapbox\": [{\"marker\": {\"colorbar\": {\"outlinewidth\": 0, \"ticks\": \"\"}}, \"type\": \"scattermapbox\"}], \"scatterpolar\": [{\"marker\": {\"colorbar\": {\"outlinewidth\": 0, \"ticks\": \"\"}}, \"type\": \"scatterpolar\"}], \"scatterpolargl\": [{\"marker\": {\"colorbar\": {\"outlinewidth\": 0, \"ticks\": \"\"}}, \"type\": \"scatterpolargl\"}], \"scatterternary\": [{\"marker\": {\"colorbar\": {\"outlinewidth\": 0, \"ticks\": \"\"}}, \"type\": \"scatterternary\"}], \"surface\": [{\"colorbar\": {\"outlinewidth\": 0, \"ticks\": \"\"}, \"colorscale\": [[0.0, \"#0d0887\"], [0.1111111111111111, \"#46039f\"], [0.2222222222222222, \"#7201a8\"], [0.3333333333333333, \"#9c179e\"], [0.4444444444444444, \"#bd3786\"], [0.5555555555555556, \"#d8576b\"], [0.6666666666666666, \"#ed7953\"], [0.7777777777777778, \"#fb9f3a\"], [0.8888888888888888, \"#fdca26\"], [1.0, \"#f0f921\"]], \"type\": \"surface\"}], \"table\": [{\"cells\": {\"fill\": {\"color\": \"#EBF0F8\"}, \"line\": {\"color\": \"white\"}}, \"header\": {\"fill\": {\"color\": \"#C8D4E3\"}, \"line\": {\"color\": \"white\"}}, \"type\": \"table\"}]}, \"layout\": {\"annotationdefaults\": {\"arrowcolor\": \"#2a3f5f\", \"arrowhead\": 0, \"arrowwidth\": 1}, \"coloraxis\": {\"colorbar\": {\"outlinewidth\": 0, \"ticks\": \"\"}}, \"colorscale\": {\"diverging\": [[0, \"#8e0152\"], [0.1, \"#c51b7d\"], [0.2, \"#de77ae\"], [0.3, \"#f1b6da\"], [0.4, \"#fde0ef\"], [0.5, \"#f7f7f7\"], [0.6, \"#e6f5d0\"], [0.7, \"#b8e186\"], [0.8, \"#7fbc41\"], [0.9, \"#4d9221\"], [1, \"#276419\"]], \"sequential\": [[0.0, \"#0d0887\"], [0.1111111111111111, \"#46039f\"], [0.2222222222222222, \"#7201a8\"], [0.3333333333333333, \"#9c179e\"], [0.4444444444444444, \"#bd3786\"], [0.5555555555555556, \"#d8576b\"], [0.6666666666666666, \"#ed7953\"], [0.7777777777777778, \"#fb9f3a\"], [0.8888888888888888, \"#fdca26\"], [1.0, \"#f0f921\"]], \"sequentialminus\": [[0.0, \"#0d0887\"], [0.1111111111111111, \"#46039f\"], [0.2222222222222222, \"#7201a8\"], [0.3333333333333333, \"#9c179e\"], [0.4444444444444444, \"#bd3786\"], [0.5555555555555556, \"#d8576b\"], [0.6666666666666666, \"#ed7953\"], [0.7777777777777778, \"#fb9f3a\"], [0.8888888888888888, \"#fdca26\"], [1.0, \"#f0f921\"]]}, \"colorway\": [\"#636efa\", \"#EF553B\", \"#00cc96\", \"#ab63fa\", \"#FFA15A\", \"#19d3f3\", \"#FF6692\", \"#B6E880\", \"#FF97FF\", \"#FECB52\"], \"font\": {\"color\": \"#2a3f5f\"}, \"geo\": {\"bgcolor\": \"white\", \"lakecolor\": \"white\", \"landcolor\": \"#E5ECF6\", \"showlakes\": true, \"showland\": true, \"subunitcolor\": \"white\"}, \"hoverlabel\": {\"align\": \"left\"}, \"hovermode\": \"closest\", \"mapbox\": {\"style\": \"light\"}, \"paper_bgcolor\": \"white\", \"plot_bgcolor\": \"#E5ECF6\", \"polar\": {\"angularaxis\": {\"gridcolor\": \"white\", \"linecolor\": \"white\", \"ticks\": \"\"}, \"bgcolor\": \"#E5ECF6\", \"radialaxis\": {\"gridcolor\": \"white\", \"linecolor\": \"white\", \"ticks\": \"\"}}, \"scene\": {\"xaxis\": {\"backgroundcolor\": \"#E5ECF6\", \"gridcolor\": \"white\", \"gridwidth\": 2, \"linecolor\": \"white\", \"showbackground\": true, \"ticks\": \"\", \"zerolinecolor\": \"white\"}, \"yaxis\": {\"backgroundcolor\": \"#E5ECF6\", \"gridcolor\": \"white\", \"gridwidth\": 2, \"linecolor\": \"white\", \"showbackground\": true, \"ticks\": \"\", \"zerolinecolor\": \"white\"}, \"zaxis\": {\"backgroundcolor\": \"#E5ECF6\", \"gridcolor\": \"white\", \"gridwidth\": 2, \"linecolor\": \"white\", \"showbackground\": true, \"ticks\": \"\", \"zerolinecolor\": \"white\"}}, \"shapedefaults\": {\"line\": {\"color\": \"#2a3f5f\"}}, \"ternary\": {\"aaxis\": {\"gridcolor\": \"white\", \"linecolor\": \"white\", \"ticks\": \"\"}, \"baxis\": {\"gridcolor\": \"white\", \"linecolor\": \"white\", \"ticks\": \"\"}, \"bgcolor\": \"#E5ECF6\", \"caxis\": {\"gridcolor\": \"white\", \"linecolor\": \"white\", \"ticks\": \"\"}}, \"title\": {\"x\": 0.05}, \"xaxis\": {\"automargin\": true, \"gridcolor\": \"white\", \"linecolor\": \"white\", \"ticks\": \"\", \"title\": {\"standoff\": 15}, \"zerolinecolor\": \"white\", \"zerolinewidth\": 2}, \"yaxis\": {\"automargin\": true, \"gridcolor\": \"white\", \"linecolor\": \"white\", \"ticks\": \"\", \"title\": {\"standoff\": 15}, \"zerolinecolor\": \"white\", \"zerolinewidth\": 2}}}, \"title\": {\"text\": \"Literature Nobel Laureates\"}, \"xaxis\": {\"anchor\": \"y\", \"domain\": [0.0, 1.0], \"title\": {\"text\": \"C\"}}, \"yaxis\": {\"anchor\": \"x\", \"domain\": [0.0, 1.0], \"title\": {\"text\": \"y\"}}},\n",
              "                        {\"responsive\": true}\n",
              "                    ).then(function(){\n",
              "                            \n",
              "var gd = document.getElementById('40e65506-e0b9-48c4-b107-d6c00564290b');\n",
              "var x = new MutationObserver(function (mutations, observer) {{\n",
              "        var display = window.getComputedStyle(gd).display;\n",
              "        if (!display || display === 'none') {{\n",
              "            console.log([gd, 'removed!']);\n",
              "            Plotly.purge(gd);\n",
              "            observer.disconnect();\n",
              "        }}\n",
              "}});\n",
              "\n",
              "// Listen for the removal of the full notebook cells\n",
              "var notebookContainer = gd.closest('#notebook-container');\n",
              "if (notebookContainer) {{\n",
              "    x.observe(notebookContainer, {childList: true});\n",
              "}}\n",
              "\n",
              "// Listen for the clearing of the current output cell\n",
              "var outputEl = gd.closest('.output');\n",
              "if (outputEl) {{\n",
              "    x.observe(outputEl, {childList: true});\n",
              "}}\n",
              "\n",
              "                        })\n",
              "                };\n",
              "                \n",
              "            </script>\n",
              "        </div>\n",
              "</body>\n",
              "</html>"
            ]
          },
          "metadata": {}
        }
      ]
    },
    {
      "cell_type": "code",
      "source": [
        "df_utls"
      ],
      "metadata": {
        "colab": {
          "base_uri": "https://localhost:8080/",
          "height": 423
        },
        "id": "hlwEuL6SsOZK",
        "outputId": "72b83c01-e65a-4e13-8d26-1a5865f4b223"
      },
      "execution_count": 31,
      "outputs": [
        {
          "output_type": "execute_result",
          "data": {
            "text/html": [
              "\n",
              "  <div id=\"df-530f16bd-a57b-49cd-b52e-c30879754345\">\n",
              "    <div class=\"colab-df-container\">\n",
              "      <div>\n",
              "<style scoped>\n",
              "    .dataframe tbody tr th:only-of-type {\n",
              "        vertical-align: middle;\n",
              "    }\n",
              "\n",
              "    .dataframe tbody tr th {\n",
              "        vertical-align: top;\n",
              "    }\n",
              "\n",
              "    .dataframe thead th {\n",
              "        text-align: right;\n",
              "    }\n",
              "</style>\n",
              "<table border=\"1\" class=\"dataframe\">\n",
              "  <thead>\n",
              "    <tr style=\"text-align: right;\">\n",
              "      <th></th>\n",
              "      <th>0</th>\n",
              "      <th>C</th>\n",
              "      <th>Date</th>\n",
              "    </tr>\n",
              "  </thead>\n",
              "  <tbody>\n",
              "    <tr>\n",
              "      <th>Sully Prudhomme</th>\n",
              "      <td>https://en.wikipedia.org/wiki/Sully_Prudhomme</td>\n",
              "      <td>Pisces</td>\n",
              "      <td>1839-03-16</td>\n",
              "    </tr>\n",
              "    <tr>\n",
              "      <th>Theodor Mommsen</th>\n",
              "      <td>https://en.wikipedia.org/wiki/Theodor_Mommsen</td>\n",
              "      <td>Sagittarius</td>\n",
              "      <td>1817-11-30</td>\n",
              "    </tr>\n",
              "    <tr>\n",
              "      <th>Bjørnstjerne Bjørnson</th>\n",
              "      <td>https://en.wikipedia.org/wiki/Bj%C3%B8rnstjern...</td>\n",
              "      <td>Sagittarius</td>\n",
              "      <td>1832-12-08</td>\n",
              "    </tr>\n",
              "    <tr>\n",
              "      <th>Frédéric Mistral</th>\n",
              "      <td>https://en.wikipedia.org/wiki/Fr%C3%A9d%C3%A9r...</td>\n",
              "      <td>Virgo</td>\n",
              "      <td>1830-09-08</td>\n",
              "    </tr>\n",
              "    <tr>\n",
              "      <th>José Echegaray</th>\n",
              "      <td>https://en.wikipedia.org/wiki/Jos%C3%A9_Echegaray</td>\n",
              "      <td>Aries</td>\n",
              "      <td>1832-04-19</td>\n",
              "    </tr>\n",
              "    <tr>\n",
              "      <th>...</th>\n",
              "      <td>...</td>\n",
              "      <td>...</td>\n",
              "      <td>...</td>\n",
              "    </tr>\n",
              "    <tr>\n",
              "      <th>Kazuo Ishiguro</th>\n",
              "      <td>https://en.wikipedia.org/wiki/Kazuo_Ishiguro</td>\n",
              "      <td>Scorpio</td>\n",
              "      <td>1954-11-08</td>\n",
              "    </tr>\n",
              "    <tr>\n",
              "      <th>Olga Tokarczuk</th>\n",
              "      <td>https://en.wikipedia.org/wiki/Olga_Tokarczuk</td>\n",
              "      <td>Aquarius</td>\n",
              "      <td>1962-01-29</td>\n",
              "    </tr>\n",
              "    <tr>\n",
              "      <th>Peter Handke</th>\n",
              "      <td>https://en.wikipedia.org/wiki/Peter_Handke</td>\n",
              "      <td>Sagittarius</td>\n",
              "      <td>1942-12-06</td>\n",
              "    </tr>\n",
              "    <tr>\n",
              "      <th>Louise Glück</th>\n",
              "      <td>https://en.wikipedia.org/wiki/Louise_Gl%C3%BCck</td>\n",
              "      <td>Taurus</td>\n",
              "      <td>1943-04-22</td>\n",
              "    </tr>\n",
              "    <tr>\n",
              "      <th>Abdulrazak Gurnah</th>\n",
              "      <td>https://en.wikipedia.org/wiki/Abdulrazak_Gurnah</td>\n",
              "      <td>Sagittarius</td>\n",
              "      <td>1948-12-20</td>\n",
              "    </tr>\n",
              "  </tbody>\n",
              "</table>\n",
              "<p>118 rows × 3 columns</p>\n",
              "</div>\n",
              "      <button class=\"colab-df-convert\" onclick=\"convertToInteractive('df-530f16bd-a57b-49cd-b52e-c30879754345')\"\n",
              "              title=\"Convert this dataframe to an interactive table.\"\n",
              "              style=\"display:none;\">\n",
              "        \n",
              "  <svg xmlns=\"http://www.w3.org/2000/svg\" height=\"24px\"viewBox=\"0 0 24 24\"\n",
              "       width=\"24px\">\n",
              "    <path d=\"M0 0h24v24H0V0z\" fill=\"none\"/>\n",
              "    <path d=\"M18.56 5.44l.94 2.06.94-2.06 2.06-.94-2.06-.94-.94-2.06-.94 2.06-2.06.94zm-11 1L8.5 8.5l.94-2.06 2.06-.94-2.06-.94L8.5 2.5l-.94 2.06-2.06.94zm10 10l.94 2.06.94-2.06 2.06-.94-2.06-.94-.94-2.06-.94 2.06-2.06.94z\"/><path d=\"M17.41 7.96l-1.37-1.37c-.4-.4-.92-.59-1.43-.59-.52 0-1.04.2-1.43.59L10.3 9.45l-7.72 7.72c-.78.78-.78 2.05 0 2.83L4 21.41c.39.39.9.59 1.41.59.51 0 1.02-.2 1.41-.59l7.78-7.78 2.81-2.81c.8-.78.8-2.07 0-2.86zM5.41 20L4 18.59l7.72-7.72 1.47 1.35L5.41 20z\"/>\n",
              "  </svg>\n",
              "      </button>\n",
              "      \n",
              "  <style>\n",
              "    .colab-df-container {\n",
              "      display:flex;\n",
              "      flex-wrap:wrap;\n",
              "      gap: 12px;\n",
              "    }\n",
              "\n",
              "    .colab-df-convert {\n",
              "      background-color: #E8F0FE;\n",
              "      border: none;\n",
              "      border-radius: 50%;\n",
              "      cursor: pointer;\n",
              "      display: none;\n",
              "      fill: #1967D2;\n",
              "      height: 32px;\n",
              "      padding: 0 0 0 0;\n",
              "      width: 32px;\n",
              "    }\n",
              "\n",
              "    .colab-df-convert:hover {\n",
              "      background-color: #E2EBFA;\n",
              "      box-shadow: 0px 1px 2px rgba(60, 64, 67, 0.3), 0px 1px 3px 1px rgba(60, 64, 67, 0.15);\n",
              "      fill: #174EA6;\n",
              "    }\n",
              "\n",
              "    [theme=dark] .colab-df-convert {\n",
              "      background-color: #3B4455;\n",
              "      fill: #D2E3FC;\n",
              "    }\n",
              "\n",
              "    [theme=dark] .colab-df-convert:hover {\n",
              "      background-color: #434B5C;\n",
              "      box-shadow: 0px 1px 3px 1px rgba(0, 0, 0, 0.15);\n",
              "      filter: drop-shadow(0px 1px 2px rgba(0, 0, 0, 0.3));\n",
              "      fill: #FFFFFF;\n",
              "    }\n",
              "  </style>\n",
              "\n",
              "      <script>\n",
              "        const buttonEl =\n",
              "          document.querySelector('#df-530f16bd-a57b-49cd-b52e-c30879754345 button.colab-df-convert');\n",
              "        buttonEl.style.display =\n",
              "          google.colab.kernel.accessAllowed ? 'block' : 'none';\n",
              "\n",
              "        async function convertToInteractive(key) {\n",
              "          const element = document.querySelector('#df-530f16bd-a57b-49cd-b52e-c30879754345');\n",
              "          const dataTable =\n",
              "            await google.colab.kernel.invokeFunction('convertToInteractive',\n",
              "                                                     [key], {});\n",
              "          if (!dataTable) return;\n",
              "\n",
              "          const docLinkHtml = 'Like what you see? Visit the ' +\n",
              "            '<a target=\"_blank\" href=https://colab.research.google.com/notebooks/data_table.ipynb>data table notebook</a>'\n",
              "            + ' to learn more about interactive tables.';\n",
              "          element.innerHTML = '';\n",
              "          dataTable['output_type'] = 'display_data';\n",
              "          await google.colab.output.renderOutput(dataTable, element);\n",
              "          const docLink = document.createElement('div');\n",
              "          docLink.innerHTML = docLinkHtml;\n",
              "          element.appendChild(docLink);\n",
              "        }\n",
              "      </script>\n",
              "    </div>\n",
              "  </div>\n",
              "  "
            ],
            "text/plain": [
              "                                                                       0  ...       Date\n",
              "Sully Prudhomme            https://en.wikipedia.org/wiki/Sully_Prudhomme  ... 1839-03-16\n",
              "Theodor Mommsen            https://en.wikipedia.org/wiki/Theodor_Mommsen  ... 1817-11-30\n",
              "Bjørnstjerne Bjørnson  https://en.wikipedia.org/wiki/Bj%C3%B8rnstjern...  ... 1832-12-08\n",
              "Frédéric Mistral       https://en.wikipedia.org/wiki/Fr%C3%A9d%C3%A9r...  ... 1830-09-08\n",
              "José Echegaray         https://en.wikipedia.org/wiki/Jos%C3%A9_Echegaray  ... 1832-04-19\n",
              "...                                                                  ...  ...        ...\n",
              "Kazuo Ishiguro              https://en.wikipedia.org/wiki/Kazuo_Ishiguro  ... 1954-11-08\n",
              "Olga Tokarczuk              https://en.wikipedia.org/wiki/Olga_Tokarczuk  ... 1962-01-29\n",
              "Peter Handke                  https://en.wikipedia.org/wiki/Peter_Handke  ... 1942-12-06\n",
              "Louise Glück             https://en.wikipedia.org/wiki/Louise_Gl%C3%BCck  ... 1943-04-22\n",
              "Abdulrazak Gurnah        https://en.wikipedia.org/wiki/Abdulrazak_Gurnah  ... 1948-12-20\n",
              "\n",
              "[118 rows x 3 columns]"
            ]
          },
          "metadata": {},
          "execution_count": 31
        }
      ]
    },
    {
      "cell_type": "code",
      "source": [
        "import math\n",
        "for i in range(len(df_utls)):\n",
        "#  print(df_utls[\"C\"][i])\n",
        "  if df_utls[\"C\"][i] == 0:\n",
        "    url = df_utls[0][i]\n",
        "    req = requests.get(url)\n",
        "    soup = BeautifulSoup(req.content, 'html.parser')\n",
        "    try:\n",
        "      name = soup.find('h1', class_ = 'firstHeading').getText()\n",
        "      date = soup.find('span', class_=\"bday\").getText()\n",
        "      df_utls['C'][i] = date\n",
        "      print(name,date)\n",
        "    except:\n",
        "      print(df_utls[0][i], i)"
      ],
      "metadata": {
        "colab": {
          "base_uri": "https://localhost:8080/"
        },
        "id": "QlNPFZ5MDMIR",
        "outputId": "23b4e5c9-4383-4a47-ebd0-fb6ec8d9027a"
      },
      "execution_count": null,
      "outputs": [
        {
          "output_type": "stream",
          "name": "stdout",
          "text": [
            "https://en.wikipedia.org/wiki/W._B._Yeats 22\n"
          ]
        }
      ]
    },
    {
      "cell_type": "code",
      "source": [
        "df_utls['C'][22] = '1865-06-13'"
      ],
      "metadata": {
        "id": "7fiIAabFEFfH"
      },
      "execution_count": null,
      "outputs": []
    },
    {
      "cell_type": "code",
      "source": [
        "for i in df_utls['C']:\n",
        "  df_utls[df_utls['C'] == i]['D']  = (i[5:])"
      ],
      "metadata": {
        "colab": {
          "base_uri": "https://localhost:8080/"
        },
        "id": "Ljp80EpMJzkU",
        "outputId": "0a666c4c-dc41-4643-a26d-f7232d29d446"
      },
      "execution_count": null,
      "outputs": [
        {
          "output_type": "stream",
          "name": "stderr",
          "text": [
            "/usr/local/lib/python3.7/dist-packages/ipykernel_launcher.py:2: SettingWithCopyWarning: \n",
            "A value is trying to be set on a copy of a slice from a DataFrame.\n",
            "Try using .loc[row_indexer,col_indexer] = value instead\n",
            "\n",
            "See the caveats in the documentation: https://pandas.pydata.org/pandas-docs/stable/user_guide/indexing.html#returning-a-view-versus-a-copy\n",
            "  \n"
          ]
        }
      ]
    },
    {
      "cell_type": "code",
      "source": [
        "df_utls"
      ],
      "metadata": {
        "colab": {
          "base_uri": "https://localhost:8080/",
          "height": 423
        },
        "id": "n-J02Lr3KVfO",
        "outputId": "113c36e1-faea-42e8-d0c5-049b67fa0ef5"
      },
      "execution_count": null,
      "outputs": [
        {
          "output_type": "execute_result",
          "data": {
            "text/html": [
              "\n",
              "  <div id=\"df-63f12c57-23d9-41e3-a680-b04d48f773b4\">\n",
              "    <div class=\"colab-df-container\">\n",
              "      <div>\n",
              "<style scoped>\n",
              "    .dataframe tbody tr th:only-of-type {\n",
              "        vertical-align: middle;\n",
              "    }\n",
              "\n",
              "    .dataframe tbody tr th {\n",
              "        vertical-align: top;\n",
              "    }\n",
              "\n",
              "    .dataframe thead th {\n",
              "        text-align: right;\n",
              "    }\n",
              "</style>\n",
              "<table border=\"1\" class=\"dataframe\">\n",
              "  <thead>\n",
              "    <tr style=\"text-align: right;\">\n",
              "      <th></th>\n",
              "      <th>0</th>\n",
              "      <th>C</th>\n",
              "    </tr>\n",
              "  </thead>\n",
              "  <tbody>\n",
              "    <tr>\n",
              "      <th>Sully Prudhomme</th>\n",
              "      <td>https://en.wikipedia.org/wiki/Sully_Prudhomme</td>\n",
              "      <td>1839-03-16</td>\n",
              "    </tr>\n",
              "    <tr>\n",
              "      <th>Theodor Mommsen</th>\n",
              "      <td>https://en.wikipedia.org/wiki/Theodor_Mommsen</td>\n",
              "      <td>1817-11-30</td>\n",
              "    </tr>\n",
              "    <tr>\n",
              "      <th>Bjørnstjerne Bjørnson</th>\n",
              "      <td>https://en.wikipedia.org/wiki/Bj%C3%B8rnstjern...</td>\n",
              "      <td>1832-12-08</td>\n",
              "    </tr>\n",
              "    <tr>\n",
              "      <th>Frédéric Mistral</th>\n",
              "      <td>https://en.wikipedia.org/wiki/Fr%C3%A9d%C3%A9r...</td>\n",
              "      <td>1830-09-08</td>\n",
              "    </tr>\n",
              "    <tr>\n",
              "      <th>José Echegaray</th>\n",
              "      <td>https://en.wikipedia.org/wiki/Jos%C3%A9_Echegaray</td>\n",
              "      <td>1832-04-19</td>\n",
              "    </tr>\n",
              "    <tr>\n",
              "      <th>...</th>\n",
              "      <td>...</td>\n",
              "      <td>...</td>\n",
              "    </tr>\n",
              "    <tr>\n",
              "      <th>Kazuo Ishiguro</th>\n",
              "      <td>https://en.wikipedia.org/wiki/Kazuo_Ishiguro</td>\n",
              "      <td>1954-11-08</td>\n",
              "    </tr>\n",
              "    <tr>\n",
              "      <th>Olga Tokarczuk</th>\n",
              "      <td>https://en.wikipedia.org/wiki/Olga_Tokarczuk</td>\n",
              "      <td>1962-01-29</td>\n",
              "    </tr>\n",
              "    <tr>\n",
              "      <th>Peter Handke</th>\n",
              "      <td>https://en.wikipedia.org/wiki/Peter_Handke</td>\n",
              "      <td>1942-12-06</td>\n",
              "    </tr>\n",
              "    <tr>\n",
              "      <th>Louise Glück</th>\n",
              "      <td>https://en.wikipedia.org/wiki/Louise_Gl%C3%BCck</td>\n",
              "      <td>1943-04-22</td>\n",
              "    </tr>\n",
              "    <tr>\n",
              "      <th>Abdulrazak Gurnah</th>\n",
              "      <td>https://en.wikipedia.org/wiki/Abdulrazak_Gurnah</td>\n",
              "      <td>1948-12-20</td>\n",
              "    </tr>\n",
              "  </tbody>\n",
              "</table>\n",
              "<p>118 rows × 2 columns</p>\n",
              "</div>\n",
              "      <button class=\"colab-df-convert\" onclick=\"convertToInteractive('df-63f12c57-23d9-41e3-a680-b04d48f773b4')\"\n",
              "              title=\"Convert this dataframe to an interactive table.\"\n",
              "              style=\"display:none;\">\n",
              "        \n",
              "  <svg xmlns=\"http://www.w3.org/2000/svg\" height=\"24px\"viewBox=\"0 0 24 24\"\n",
              "       width=\"24px\">\n",
              "    <path d=\"M0 0h24v24H0V0z\" fill=\"none\"/>\n",
              "    <path d=\"M18.56 5.44l.94 2.06.94-2.06 2.06-.94-2.06-.94-.94-2.06-.94 2.06-2.06.94zm-11 1L8.5 8.5l.94-2.06 2.06-.94-2.06-.94L8.5 2.5l-.94 2.06-2.06.94zm10 10l.94 2.06.94-2.06 2.06-.94-2.06-.94-.94-2.06-.94 2.06-2.06.94z\"/><path d=\"M17.41 7.96l-1.37-1.37c-.4-.4-.92-.59-1.43-.59-.52 0-1.04.2-1.43.59L10.3 9.45l-7.72 7.72c-.78.78-.78 2.05 0 2.83L4 21.41c.39.39.9.59 1.41.59.51 0 1.02-.2 1.41-.59l7.78-7.78 2.81-2.81c.8-.78.8-2.07 0-2.86zM5.41 20L4 18.59l7.72-7.72 1.47 1.35L5.41 20z\"/>\n",
              "  </svg>\n",
              "      </button>\n",
              "      \n",
              "  <style>\n",
              "    .colab-df-container {\n",
              "      display:flex;\n",
              "      flex-wrap:wrap;\n",
              "      gap: 12px;\n",
              "    }\n",
              "\n",
              "    .colab-df-convert {\n",
              "      background-color: #E8F0FE;\n",
              "      border: none;\n",
              "      border-radius: 50%;\n",
              "      cursor: pointer;\n",
              "      display: none;\n",
              "      fill: #1967D2;\n",
              "      height: 32px;\n",
              "      padding: 0 0 0 0;\n",
              "      width: 32px;\n",
              "    }\n",
              "\n",
              "    .colab-df-convert:hover {\n",
              "      background-color: #E2EBFA;\n",
              "      box-shadow: 0px 1px 2px rgba(60, 64, 67, 0.3), 0px 1px 3px 1px rgba(60, 64, 67, 0.15);\n",
              "      fill: #174EA6;\n",
              "    }\n",
              "\n",
              "    [theme=dark] .colab-df-convert {\n",
              "      background-color: #3B4455;\n",
              "      fill: #D2E3FC;\n",
              "    }\n",
              "\n",
              "    [theme=dark] .colab-df-convert:hover {\n",
              "      background-color: #434B5C;\n",
              "      box-shadow: 0px 1px 3px 1px rgba(0, 0, 0, 0.15);\n",
              "      filter: drop-shadow(0px 1px 2px rgba(0, 0, 0, 0.3));\n",
              "      fill: #FFFFFF;\n",
              "    }\n",
              "  </style>\n",
              "\n",
              "      <script>\n",
              "        const buttonEl =\n",
              "          document.querySelector('#df-63f12c57-23d9-41e3-a680-b04d48f773b4 button.colab-df-convert');\n",
              "        buttonEl.style.display =\n",
              "          google.colab.kernel.accessAllowed ? 'block' : 'none';\n",
              "\n",
              "        async function convertToInteractive(key) {\n",
              "          const element = document.querySelector('#df-63f12c57-23d9-41e3-a680-b04d48f773b4');\n",
              "          const dataTable =\n",
              "            await google.colab.kernel.invokeFunction('convertToInteractive',\n",
              "                                                     [key], {});\n",
              "          if (!dataTable) return;\n",
              "\n",
              "          const docLinkHtml = 'Like what you see? Visit the ' +\n",
              "            '<a target=\"_blank\" href=https://colab.research.google.com/notebooks/data_table.ipynb>data table notebook</a>'\n",
              "            + ' to learn more about interactive tables.';\n",
              "          element.innerHTML = '';\n",
              "          dataTable['output_type'] = 'display_data';\n",
              "          await google.colab.output.renderOutput(dataTable, element);\n",
              "          const docLink = document.createElement('div');\n",
              "          docLink.innerHTML = docLinkHtml;\n",
              "          element.appendChild(docLink);\n",
              "        }\n",
              "      </script>\n",
              "    </div>\n",
              "  </div>\n",
              "  "
            ],
            "text/plain": [
              "                                                                       0           C\n",
              "Sully Prudhomme            https://en.wikipedia.org/wiki/Sully_Prudhomme  1839-03-16\n",
              "Theodor Mommsen            https://en.wikipedia.org/wiki/Theodor_Mommsen  1817-11-30\n",
              "Bjørnstjerne Bjørnson  https://en.wikipedia.org/wiki/Bj%C3%B8rnstjern...  1832-12-08\n",
              "Frédéric Mistral       https://en.wikipedia.org/wiki/Fr%C3%A9d%C3%A9r...  1830-09-08\n",
              "José Echegaray         https://en.wikipedia.org/wiki/Jos%C3%A9_Echegaray  1832-04-19\n",
              "...                                                                  ...         ...\n",
              "Kazuo Ishiguro              https://en.wikipedia.org/wiki/Kazuo_Ishiguro  1954-11-08\n",
              "Olga Tokarczuk              https://en.wikipedia.org/wiki/Olga_Tokarczuk  1962-01-29\n",
              "Peter Handke                  https://en.wikipedia.org/wiki/Peter_Handke  1942-12-06\n",
              "Louise Glück             https://en.wikipedia.org/wiki/Louise_Gl%C3%BCck  1943-04-22\n",
              "Abdulrazak Gurnah        https://en.wikipedia.org/wiki/Abdulrazak_Gurnah  1948-12-20\n",
              "\n",
              "[118 rows x 2 columns]"
            ]
          },
          "metadata": {},
          "execution_count": 75
        }
      ]
    },
    {
      "cell_type": "code",
      "execution_count": null,
      "metadata": {
        "id": "UCd1yjMxnn6-"
      },
      "outputs": [],
      "source": [
        "\n",
        "table_pandas = pd.read_html('https://en.wikipedia.org/wiki/List_of_Nobel_laureates_in_Literature')[0]"
      ]
    },
    {
      "cell_type": "code",
      "execution_count": null,
      "metadata": {
        "colab": {
          "base_uri": "https://localhost:8080/",
          "height": 200
        },
        "id": "7OD65M9qqxOP",
        "outputId": "b2b166d3-d986-420d-8d47-b2eb55d4445e"
      },
      "outputs": [
        {
          "ename": "KeyError",
          "evalue": "ignored",
          "output_type": "error",
          "traceback": [
            "\u001b[0;31m---------------------------------------------------------------------------\u001b[0m",
            "\u001b[0;31mKeyError\u001b[0m                                  Traceback (most recent call last)",
            "\u001b[0;32m<ipython-input-12-223fd37cf34e>\u001b[0m in \u001b[0;36m<module>\u001b[0;34m()\u001b[0m\n\u001b[1;32m      1\u001b[0m \u001b[0;32mfor\u001b[0m \u001b[0mi\u001b[0m \u001b[0;32min\u001b[0m \u001b[0mrange\u001b[0m\u001b[0;34m(\u001b[0m\u001b[0mlen\u001b[0m\u001b[0;34m(\u001b[0m\u001b[0mlaureate_dict\u001b[0m\u001b[0;34m)\u001b[0m\u001b[0;34m)\u001b[0m\u001b[0;34m:\u001b[0m\u001b[0;34m\u001b[0m\u001b[0;34m\u001b[0m\u001b[0m\n\u001b[0;32m----> 2\u001b[0;31m   \u001b[0;32mif\u001b[0m \u001b[0mlaureate_dict\u001b[0m\u001b[0;34m[\u001b[0m\u001b[0mi\u001b[0m\u001b[0;34m]\u001b[0m \u001b[0;34m!=\u001b[0m \u001b[0mlaureate_date\u001b[0m\u001b[0;34m[\u001b[0m\u001b[0mi\u001b[0m\u001b[0;34m]\u001b[0m\u001b[0;34m:\u001b[0m\u001b[0;34m\u001b[0m\u001b[0;34m\u001b[0m\u001b[0m\n\u001b[0m\u001b[1;32m      3\u001b[0m     \u001b[0mprint\u001b[0m\u001b[0;34m(\u001b[0m\u001b[0mi\u001b[0m\u001b[0;34m)\u001b[0m\u001b[0;34m\u001b[0m\u001b[0;34m\u001b[0m\u001b[0m\n",
            "\u001b[0;31mKeyError\u001b[0m: 0"
          ]
        }
      ],
      "source": [
        "for i in range(len(laureate_dict)):\n",
        "for key in crucial.keys():\n",
        "    if key in dishes.keys():\n",
        "        print dishes[key]  if laureate_dict[i] != laureate_date[i]:\n",
        "    print(i)"
      ]
    },
    {
      "cell_type": "code",
      "execution_count": null,
      "metadata": {
        "colab": {
          "base_uri": "https://localhost:8080/"
        },
        "id": "7I5jiKx9N4W7",
        "outputId": "61245f80-29ef-4be0-ea6d-22627afec78a"
      },
      "outputs": [
        {
          "name": "stdout",
          "output_type": "stream",
          "text": [
            "https://en.wikipedia.org/wiki/Theodor_Mommsen\n",
            "https://en.wikipedia.org/wiki/Rudolf_Christoph_Eucken\n",
            "https://en.wikipedia.org/wiki/W._B._Yeats\n",
            "https://en.wikipedia.org/wiki/Henri_Bergson\n",
            "https://en.wikipedia.org/wiki/Johannes_Vilhelm_Jensen\n",
            "https://en.wikipedia.org/wiki/Bertrand_Russell\n",
            "https://en.wikipedia.org/wiki/Albert_Camus\n",
            "https://en.wikipedia.org/wiki/Jean-Paul_Sartre\n",
            "https://en.wikipedia.org/wiki/Pablo_Neruda\n",
            "https://en.wikipedia.org/wiki/Bob_Dylan\n",
            "https://en.wikipedia.org/wiki/Kazuo_Ishiguro\n"
          ]
        }
      ],
      "source": [
        "for key in laureate_dict.keys():\n",
        "    if key not in laureate_date.keys():\n",
        "        print (laureate_dict[key])\n",
        "\n",
        "#headers = {\n",
        "#    'Access-Control-Allow-Origin': '*',\n",
        "#    'Access-Control-Allow-Methods': 'GET',\n",
        "#    'Access-Control-Allow-Headers': 'Content-Type',\n",
        "#    'Access-Control-Max-Age': '3600',\n",
        "#    'User-Agent': 'Mozilla/5.0 (X11; Ubuntu; Linux x86_64; rv:52.0) Gecko/20100101 Firefox/52.0'\n",
        "#    }\n",
        "#    third_column = row.findAll('td')[2].contents\n",
        "    \n",
        "#table_wiki = soup.find('table', class_ = \"wikitable\")\n",
        "#for nobel_laureate in table_wiki.find_all('tbody'):\n",
        "#  rows = nobel_laureate.find_all('tr')\n",
        "#  for row in rows:\n",
        "#    n = 0\n",
        "#    print(row)\n",
        "\n",
        "#    for elem in row.find_all('td'):\n",
        "#      print(elem)\n",
        "\n",
        "#      if n==0:\n",
        "#        if elem.has_key('rowspan'):\n",
        "#          print(elem)\n",
        "#          next = \"next\"\n",
        "#      if next == None:\n",
        "#        if n == 2:\n",
        "#          print(elem.find('a').get('href'))\n",
        "#      if next == \"new\":\n",
        "#        if n ==2:\n",
        "#          print(elem.find('a').get('href'))\n",
        "#        next = None\n",
        "#      if next == \"next\":\n",
        "#        if n == 2:\n",
        "#          print(elem.find('a').get('href'))\n",
        "#        next = \"new\"\n",
        "#      n = n + 1\n",
        "#    print(row.find_all('td')[1].contents[0].strip())\n",
        "\n",
        "#table_pandas = pd.read_html('https://en.wikipedia.org/wiki/List_of_Nobel_laureates_in_Literature')\n",
        "\n",
        "\n",
        "\n",
        "#print(table_pandas)\n",
        "#print(soup.prettify())\n",
        "#div_tads = soup.find_all(\"table\")\n",
        "#tags = soup.find_all(\"table\")\n",
        "#for tag in tags:\n",
        "#  print(tag.text)\n",
        "#print(div_tads)\n",
        "#for divs in div_tads:\n",
        "#  print(divs.tr)"
      ]
    }
  ],
  "metadata": {
    "colab": {
      "collapsed_sections": [],
      "name": "Nobel laureate.ipynb",
      "provenance": []
    },
    "kernelspec": {
      "display_name": "Python 3",
      "name": "python3"
    },
    "language_info": {
      "name": "python"
    }
  },
  "nbformat": 4,
  "nbformat_minor": 0
}